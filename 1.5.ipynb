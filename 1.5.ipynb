{
  "metadata": {
    "language_info": {
      "codemirror_mode": {
        "name": "python",
        "version": 3
      },
      "file_extension": ".py",
      "mimetype": "text/x-python",
      "name": "python",
      "nbconvert_exporter": "python",
      "pygments_lexer": "ipython3",
      "version": "3.8"
    },
    "kernelspec": {
      "name": "python",
      "display_name": "Pyolite",
      "language": "python"
    }
  },
  "nbformat_minor": 4,
  "nbformat": 4,
  "cells": [
    {
      "cell_type": "code",
      "source": "import numpy as np\n\nm = np.matrix([[1,2],[3,4]])\nprint(m)\nprint(m**-1)\n\na = np.array([[1.0,2.0],[3.0,4.0]])\nprint(a)\nprint(a**-1)\n\n# Dla obiektu typu martix operacja m**-1 podnosi macierz do potęgi -1\n# Dla obiektu typu array operacja a**-1 wykonuje podniesienie każdego elementu do potęgi \"-1\"",
      "metadata": {
        "trusted": true
      },
      "execution_count": 10,
      "outputs": [
        {
          "name": "stdout",
          "text": "[[1 2]\n [3 4]]\n[[-2.   1. ]\n [ 1.5 -0.5]]\n[[1. 2.]\n [3. 4.]]\n[[1.         0.5       ]\n [0.33333333 0.25      ]]\n",
          "output_type": "stream"
        }
      ]
    }
  ]
}