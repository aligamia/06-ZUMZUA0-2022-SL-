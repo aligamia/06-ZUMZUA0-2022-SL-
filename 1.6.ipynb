{
  "metadata": {
    "language_info": {
      "codemirror_mode": {
        "name": "python",
        "version": 3
      },
      "file_extension": ".py",
      "mimetype": "text/x-python",
      "name": "python",
      "nbconvert_exporter": "python",
      "pygments_lexer": "ipython3",
      "version": "3.8"
    },
    "kernelspec": {
      "name": "python",
      "display_name": "Pyolite",
      "language": "python"
    }
  },
  "nbformat_minor": 4,
  "nbformat": 4,
  "cells": [
    {
      "cell_type": "code",
      "source": "import numpy as np\n\ny= np.matrix([[5],[6]])\nm = np.matrix([[1,2,3],[1,3,6]])\nprint(((m.transpose() * m)**-1)*(m.transpose()*y))\n\nx = np.array([[5],[6]])\na = np.array([[1,2,3],[1,3,6]])\nprint(np.dot(np.linalg.matrix_power(np.dot(np.transpose(a),a),-1),np.dot(np.transpose(a),x)))\n",
      "metadata": {
        "trusted": true
      },
      "execution_count": 4,
      "outputs": [
        {
          "name": "stdout",
          "text": "[[-12.]\n [  4.]\n [ -2.]]\n[[-12.]\n [  4.]\n [ -2.]]\n",
          "output_type": "stream"
        }
      ]
    },
    {
      "cell_type": "code",
      "source": "",
      "metadata": {},
      "execution_count": null,
      "outputs": []
    },
    {
      "cell_type": "code",
      "source": "",
      "metadata": {},
      "execution_count": null,
      "outputs": []
    }
  ]
}
